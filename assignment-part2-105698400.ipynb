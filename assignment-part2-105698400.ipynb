{
 "cells": [
  {
   "cell_type": "markdown",
   "id": "0d087481",
   "metadata": {},
   "source": [
    "# COS60008 Introduction to Data Science\n",
    "## Assignment 1, 2025, Semester 1\n",
    "## Student Details:\n",
    "* Name: Deval Patel\n",
    "* Student ID: 105698400\n",
    "* Email: 105698400@student.swin.edu.au\n",
    "* Submission Date: 4/11/2025\n",
    "* Tutelab Class: monday (12:30 to 2:30)"
   ]
  },
  {
   "cell_type": "markdown",
   "id": "e0264a74",
   "metadata": {},
   "source": [
    "# PART-2"
   ]
  },
  {
   "cell_type": "markdown",
   "id": "e396c7a3",
   "metadata": {},
   "source": [
    "# Data Loading"
   ]
  },
  {
   "cell_type": "code",
   "execution_count": 1,
   "id": "8718c9e6",
   "metadata": {},
   "outputs": [],
   "source": [
    "import pandas as pd\n",
    "import numpy as np\n",
    "\n",
    "# Step 1: Load the original dataset\n",
    "df_original = pd.read_csv(\"exercise_dataset.csv\")\n",
    "\n",
    "\n"
   ]
  },
  {
   "cell_type": "markdown",
   "id": "6fae3a1a",
   "metadata": {},
   "source": [
    "## Making a subset of 200 rows and 8 columns"
   ]
  },
  {
   "cell_type": "code",
   "execution_count": 2,
   "id": "9d00ed0d",
   "metadata": {},
   "outputs": [],
   "source": [
    "# Step 2: Subset to 200 rows and 8 columns (4 categorical, 4 numerical)\n",
    "columns_to_keep = [\n",
    "    'Exercise', 'Calories Burn', 'Actual Weight', 'Age',\n",
    "    'Gender', 'Weather Conditions', 'Exercise Intensity', 'Duration'\n",
    "]\n",
    "df_subset = df_original.sample(n=200, random_state=42).reset_index(drop=True)\n",
    "df_unclean = df_subset[columns_to_keep].copy()\n",
    "\n"
   ]
  },
  {
   "cell_type": "markdown",
   "id": "ce7bac9a",
   "metadata": {},
   "source": [
    "## Making data Unclean"
   ]
  },
  {
   "cell_type": "code",
   "execution_count": 3,
   "id": "0cb8f02f",
   "metadata": {},
   "outputs": [],
   "source": [
    "# Introduce random missing values (5%)\n",
    "np.random.seed(42)\n",
    "for col in df_unclean.columns:\n",
    "    df_unclean.loc[df_unclean.sample(frac=0.05).index, col] = np.nan\n",
    "\n"
   ]
  },
  {
   "cell_type": "code",
   "execution_count": 4,
   "id": "71228b0c",
   "metadata": {},
   "outputs": [],
   "source": [
    "# Function to introduce typos and inconsistent formatting\n",
    "def introduce_typos(val):\n",
    "    if isinstance(val, str):\n",
    "        if np.random.rand() < 0.2:\n",
    "            return val.lower() + \" \"\n",
    "        elif np.random.rand() < 0.2:\n",
    "            return val.replace(\"e\", \"3\")\n",
    "    return val\n",
    "\n"
   ]
  },
  {
   "cell_type": "code",
   "execution_count": 5,
   "id": "256f57ba",
   "metadata": {},
   "outputs": [],
   "source": [
    "# Apply typos to categorical columns\n",
    "for col in ['Exercise', 'Gender', 'Weather Conditions']:\n",
    "    df_unclean[col] = df_unclean[col].apply(introduce_typos)\n",
    "\n",
    "# Randomly swap some Duration and Intensity values\n",
    "swap_indices = np.random.choice(df_unclean.index, size=10, replace=False)\n",
    "df_unclean.loc[swap_indices, ['Duration', 'Exercise Intensity']] = \\\n",
    "    df_unclean.loc[swap_indices, ['Exercise Intensity', 'Duration']].values\n",
    "\n"
   ]
  },
  {
   "cell_type": "code",
   "execution_count": 6,
   "id": "d59423fc",
   "metadata": {
    "scrolled": true
   },
   "outputs": [
    {
     "data": {
      "text/html": [
       "<div>\n",
       "<style scoped>\n",
       "    .dataframe tbody tr th:only-of-type {\n",
       "        vertical-align: middle;\n",
       "    }\n",
       "\n",
       "    .dataframe tbody tr th {\n",
       "        vertical-align: top;\n",
       "    }\n",
       "\n",
       "    .dataframe thead th {\n",
       "        text-align: right;\n",
       "    }\n",
       "</style>\n",
       "<table border=\"1\" class=\"dataframe\">\n",
       "  <thead>\n",
       "    <tr style=\"text-align: right;\">\n",
       "      <th></th>\n",
       "      <th>Exercise</th>\n",
       "      <th>Calories Burn</th>\n",
       "      <th>Actual Weight</th>\n",
       "      <th>Age</th>\n",
       "      <th>Gender</th>\n",
       "      <th>Weather Conditions</th>\n",
       "      <th>Exercise Intensity</th>\n",
       "      <th>Duration</th>\n",
       "    </tr>\n",
       "  </thead>\n",
       "  <tbody>\n",
       "    <tr>\n",
       "      <th>0</th>\n",
       "      <td>Ex3rcis3 8</td>\n",
       "      <td>204.141413</td>\n",
       "      <td>82.013483</td>\n",
       "      <td>46.0</td>\n",
       "      <td>Female</td>\n",
       "      <td>Cloudy</td>\n",
       "      <td>6.0</td>\n",
       "      <td>55.0</td>\n",
       "    </tr>\n",
       "    <tr>\n",
       "      <th>1</th>\n",
       "      <td>Exercise 4</td>\n",
       "      <td>274.705653</td>\n",
       "      <td>75.547431</td>\n",
       "      <td>46.0</td>\n",
       "      <td>Male</td>\n",
       "      <td>Cloudy</td>\n",
       "      <td>9.0</td>\n",
       "      <td>NaN</td>\n",
       "    </tr>\n",
       "    <tr>\n",
       "      <th>2</th>\n",
       "      <td>Exercise 10</td>\n",
       "      <td>379.260280</td>\n",
       "      <td>85.564708</td>\n",
       "      <td>29.0</td>\n",
       "      <td>Male</td>\n",
       "      <td>Rainy</td>\n",
       "      <td>41.0</td>\n",
       "      <td>1.0</td>\n",
       "    </tr>\n",
       "    <tr>\n",
       "      <th>3</th>\n",
       "      <td>Exercise 3</td>\n",
       "      <td>154.854311</td>\n",
       "      <td>67.778809</td>\n",
       "      <td>29.0</td>\n",
       "      <td>female</td>\n",
       "      <td>NaN</td>\n",
       "      <td>10.0</td>\n",
       "      <td>35.0</td>\n",
       "    </tr>\n",
       "    <tr>\n",
       "      <th>4</th>\n",
       "      <td>Exercise 8</td>\n",
       "      <td>338.049803</td>\n",
       "      <td>94.511105</td>\n",
       "      <td>39.0</td>\n",
       "      <td>female</td>\n",
       "      <td>Sunny</td>\n",
       "      <td>2.0</td>\n",
       "      <td>25.0</td>\n",
       "    </tr>\n",
       "  </tbody>\n",
       "</table>\n",
       "</div>"
      ],
      "text/plain": [
       "      Exercise  Calories Burn  Actual Weight   Age   Gender  \\\n",
       "0   Ex3rcis3 8     204.141413      82.013483  46.0   Female   \n",
       "1   Exercise 4     274.705653      75.547431  46.0     Male   \n",
       "2  Exercise 10     379.260280      85.564708  29.0     Male   \n",
       "3   Exercise 3     154.854311      67.778809  29.0  female    \n",
       "4   Exercise 8     338.049803      94.511105  39.0  female    \n",
       "\n",
       "  Weather Conditions  Exercise Intensity  Duration  \n",
       "0             Cloudy                 6.0      55.0  \n",
       "1             Cloudy                 9.0       NaN  \n",
       "2              Rainy                41.0       1.0  \n",
       "3                NaN                10.0      35.0  \n",
       "4              Sunny                 2.0      25.0  "
      ]
     },
     "execution_count": 6,
     "metadata": {},
     "output_type": "execute_result"
    }
   ],
   "source": [
    "# Save the uncleaned version for Step 3\n",
    "df_unclean.to_csv(\"uncleaned_exercise_dataset.csv\", index=False)\n",
    "\n",
    "# Optional: Preview\n",
    "df_unclean.head()"
   ]
  },
  {
   "cell_type": "markdown",
   "id": "cab85794",
   "metadata": {},
   "source": [
    "## Loading unclean data-set\n"
   ]
  },
  {
   "cell_type": "code",
   "execution_count": 7,
   "id": "7350d5ae",
   "metadata": {},
   "outputs": [],
   "source": [
    "# Load the uncleaned dataset\n",
    "df_unclean = pd.read_csv(\"uncleaned_exercise_dataset.csv\")\n",
    "df_clean = df_unclean.copy()\n",
    "\n",
    "\n"
   ]
  },
  {
   "cell_type": "markdown",
   "id": "b6c8ba20",
   "metadata": {},
   "source": [
    "# step by step  reconstruction"
   ]
  },
  {
   "cell_type": "markdown",
   "id": "48e0be04",
   "metadata": {},
   "source": [
    "## Step 1: Strip whitespace and standardize case in categorical columns"
   ]
  },
  {
   "cell_type": "code",
   "execution_count": 8,
   "id": "50a899eb",
   "metadata": {},
   "outputs": [],
   "source": [
    "for col in ['Exercise', 'Gender', 'Weather Conditions']:\n",
    "    df_clean[col] = df_clean[col].astype(str).str.strip().str.title()"
   ]
  },
  {
   "cell_type": "markdown",
   "id": "ebe542c3",
   "metadata": {},
   "source": [
    "## Step 2: Fix known typo replacements"
   ]
  },
  {
   "cell_type": "code",
   "execution_count": 9,
   "id": "56b7ce9f",
   "metadata": {},
   "outputs": [],
   "source": [
    "df_clean['Exercise'] = df_clean['Exercise'].str.replace(r\"Ex3rcis3\", \"Exercise\",case=False, regex=False)\n",
    "df_clean['Gender'] = df_clean['Gender'].replace({\"Female    \": \"Female\", \"female\": \"Female\", \"male\": \"Male\"})\n",
    "df_clean['Weather Conditions'] = df_clean['Weather Conditions'].replace({\"Rainy\": \"Rainy\", \"rainy\": \"Rainy\"})"
   ]
  },
  {
   "cell_type": "markdown",
   "id": "325f0727",
   "metadata": {},
   "source": [
    "## Step 3: Handle missing values"
   ]
  },
  {
   "cell_type": "code",
   "execution_count": 10,
   "id": "3abd3f24",
   "metadata": {},
   "outputs": [],
   "source": [
    "# Fill numerical columns with median\n",
    "num_cols = ['Calories Burn', 'Actual Weight', 'Age', 'Duration', 'Exercise Intensity']\n",
    "for col in num_cols:\n",
    "    df_clean[col] = pd.to_numeric(df_clean[col], errors='coerce')  # Ensuring that they stay numeric\n",
    "    df_clean[col] = df_clean[col].fillna(df_clean[col].median())\n",
    "\n",
    "# Fill categorical columns with mode\n",
    "cat_cols = ['Exercise', 'Gender', 'Weather Conditions']\n",
    "for col in cat_cols:\n",
    "    df_clean[col] = df_clean[col].fillna(df_clean[col].mode()[0])"
   ]
  },
  {
   "cell_type": "markdown",
   "id": "bf1cc812",
   "metadata": {},
   "source": [
    "## Step 4: Fix swapped values: if Duration is unusually low and Intensity unusually high, swap them"
   ]
  },
  {
   "cell_type": "code",
   "execution_count": 11,
   "id": "91064727",
   "metadata": {},
   "outputs": [],
   "source": [
    "# I'll define a reasonable rule: Duration < 10 and Intensity > 20 is likely swapped\n",
    "swap_condition = (df_clean['Duration'] < 10) & (df_clean['Exercise Intensity'] > 20)\n",
    "df_clean.loc[swap_condition, ['Duration', 'Exercise Intensity']] = \\\n",
    "    df_clean.loc[swap_condition, ['Exercise Intensity', 'Duration']].values"
   ]
  },
  {
   "cell_type": "markdown",
   "id": "ca51172d",
   "metadata": {},
   "source": [
    "## Step 5: Final check for types and formatting"
   ]
  },
  {
   "cell_type": "code",
   "execution_count": 12,
   "id": "db9cab22",
   "metadata": {},
   "outputs": [],
   "source": [
    "df_clean[num_cols] = df_clean[num_cols].astype(float)\n",
    "df_clean[cat_cols] = df_clean[cat_cols].astype(str)"
   ]
  },
  {
   "cell_type": "markdown",
   "id": "a3e2a19c",
   "metadata": {},
   "source": [
    "## Save the cleaned dataset and preview"
   ]
  },
  {
   "cell_type": "code",
   "execution_count": 13,
   "id": "ac6e700f",
   "metadata": {},
   "outputs": [
    {
     "data": {
      "text/html": [
       "<div>\n",
       "<style scoped>\n",
       "    .dataframe tbody tr th:only-of-type {\n",
       "        vertical-align: middle;\n",
       "    }\n",
       "\n",
       "    .dataframe tbody tr th {\n",
       "        vertical-align: top;\n",
       "    }\n",
       "\n",
       "    .dataframe thead th {\n",
       "        text-align: right;\n",
       "    }\n",
       "</style>\n",
       "<table border=\"1\" class=\"dataframe\">\n",
       "  <thead>\n",
       "    <tr style=\"text-align: right;\">\n",
       "      <th></th>\n",
       "      <th>Exercise</th>\n",
       "      <th>Calories Burn</th>\n",
       "      <th>Actual Weight</th>\n",
       "      <th>Age</th>\n",
       "      <th>Gender</th>\n",
       "      <th>Weather Conditions</th>\n",
       "      <th>Exercise Intensity</th>\n",
       "      <th>Duration</th>\n",
       "    </tr>\n",
       "  </thead>\n",
       "  <tbody>\n",
       "    <tr>\n",
       "      <th>0</th>\n",
       "      <td>Exercise 8</td>\n",
       "      <td>204.141413</td>\n",
       "      <td>82.013483</td>\n",
       "      <td>46.0</td>\n",
       "      <td>Female</td>\n",
       "      <td>Cloudy</td>\n",
       "      <td>6.0</td>\n",
       "      <td>55.0</td>\n",
       "    </tr>\n",
       "    <tr>\n",
       "      <th>1</th>\n",
       "      <td>Exercise 4</td>\n",
       "      <td>274.705653</td>\n",
       "      <td>75.547431</td>\n",
       "      <td>46.0</td>\n",
       "      <td>Male</td>\n",
       "      <td>Cloudy</td>\n",
       "      <td>9.0</td>\n",
       "      <td>40.0</td>\n",
       "    </tr>\n",
       "    <tr>\n",
       "      <th>2</th>\n",
       "      <td>Exercise 10</td>\n",
       "      <td>379.260280</td>\n",
       "      <td>85.564708</td>\n",
       "      <td>29.0</td>\n",
       "      <td>Male</td>\n",
       "      <td>Rainy</td>\n",
       "      <td>1.0</td>\n",
       "      <td>41.0</td>\n",
       "    </tr>\n",
       "    <tr>\n",
       "      <th>3</th>\n",
       "      <td>Exercise 3</td>\n",
       "      <td>154.854311</td>\n",
       "      <td>67.778809</td>\n",
       "      <td>29.0</td>\n",
       "      <td>Female</td>\n",
       "      <td>Nan</td>\n",
       "      <td>10.0</td>\n",
       "      <td>35.0</td>\n",
       "    </tr>\n",
       "    <tr>\n",
       "      <th>4</th>\n",
       "      <td>Exercise 8</td>\n",
       "      <td>338.049803</td>\n",
       "      <td>94.511105</td>\n",
       "      <td>39.0</td>\n",
       "      <td>Female</td>\n",
       "      <td>Sunny</td>\n",
       "      <td>2.0</td>\n",
       "      <td>25.0</td>\n",
       "    </tr>\n",
       "  </tbody>\n",
       "</table>\n",
       "</div>"
      ],
      "text/plain": [
       "      Exercise  Calories Burn  Actual Weight   Age  Gender Weather Conditions  \\\n",
       "0   Exercise 8     204.141413      82.013483  46.0  Female             Cloudy   \n",
       "1   Exercise 4     274.705653      75.547431  46.0    Male             Cloudy   \n",
       "2  Exercise 10     379.260280      85.564708  29.0    Male              Rainy   \n",
       "3   Exercise 3     154.854311      67.778809  29.0  Female                Nan   \n",
       "4   Exercise 8     338.049803      94.511105  39.0  Female              Sunny   \n",
       "\n",
       "   Exercise Intensity  Duration  \n",
       "0                 6.0      55.0  \n",
       "1                 9.0      40.0  \n",
       "2                 1.0      41.0  \n",
       "3                10.0      35.0  \n",
       "4                 2.0      25.0  "
      ]
     },
     "execution_count": 13,
     "metadata": {},
     "output_type": "execute_result"
    }
   ],
   "source": [
    "df_clean.to_csv(\"reconstructed_exercise_dataset.csv\", index=False)\n",
    "\n",
    "# Optional: Preview\n",
    "df_clean.head()"
   ]
  }
 ],
 "metadata": {
  "kernelspec": {
   "display_name": "Python 3 (ipykernel)",
   "language": "python",
   "name": "python3"
  },
  "language_info": {
   "codemirror_mode": {
    "name": "ipython",
    "version": 3
   },
   "file_extension": ".py",
   "mimetype": "text/x-python",
   "name": "python",
   "nbconvert_exporter": "python",
   "pygments_lexer": "ipython3",
   "version": "3.11.5"
  }
 },
 "nbformat": 4,
 "nbformat_minor": 5
}
